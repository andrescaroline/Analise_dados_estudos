{
  "nbformat": 4,
  "nbformat_minor": 0,
  "metadata": {
    "colab": {
      "provenance": [],
      "toc_visible": true
    },
    "kernelspec": {
      "name": "python3",
      "display_name": "Python 3"
    },
    "language_info": {
      "name": "python"
    }
  },
  "cells": [
    {
      "cell_type": "code",
      "execution_count": 4,
      "metadata": {
        "colab": {
          "base_uri": "https://localhost:8080/"
        },
        "id": "WlhMnEoD8Jr6",
        "outputId": "c4e803f5-b4c7-45bb-abf1-002243227790"
      },
      "outputs": [
        {
          "output_type": "execute_result",
          "data": {
            "text/plain": [
              "array([[0.33630337, 0.6480418 , 0.42551328],\n",
              "       [0.12541755, 0.02035825, 0.98604959],\n",
              "       [0.44689582, 0.58029048, 0.68116066],\n",
              "       [0.09938099, 0.27233424, 0.23419178]])"
            ]
          },
          "metadata": {},
          "execution_count": 4
        }
      ],
      "source": [
        "import numpy as np\n",
        "\n",
        "\n",
        "#Atividade de fixação\n",
        "##Numpy\n",
        "\n",
        "###1. Crie um array com 4 linhas e 3 colunas com valores aleatórios\n",
        "arr = np.random.random((4,3))\n",
        "arr\n"
      ]
    },
    {
      "cell_type": "code",
      "source": [
        "###2.Crie um array com valores inteiros,3 linhas e 5 colunas com valores aleatórios.\n",
        "np.random.randint(1,20, size=(3,5))"
      ],
      "metadata": {
        "colab": {
          "base_uri": "https://localhost:8080/"
        },
        "id": "NbsO17Yq8ZGk",
        "outputId": "9bb90515-c745-406a-daf3-4f2f7a5626eb"
      },
      "execution_count": 5,
      "outputs": [
        {
          "output_type": "execute_result",
          "data": {
            "text/plain": [
              "array([[ 8, 16, 18, 19, 11],\n",
              "       [ 8,  9,  5, 12,  5],\n",
              "       [ 8, 11,  4, 13, 11]])"
            ]
          },
          "metadata": {},
          "execution_count": 5
        }
      ]
    },
    {
      "cell_type": "code",
      "source": [
        "np.arange(0,90,4)"
      ],
      "metadata": {
        "colab": {
          "base_uri": "https://localhost:8080/"
        },
        "id": "s9BmVZuM9you",
        "outputId": "14daf5f0-3e7c-4972-ba5a-ebfe331a1278"
      },
      "execution_count": 9,
      "outputs": [
        {
          "output_type": "execute_result",
          "data": {
            "text/plain": [
              "array([ 0,  4,  8, 12, 16, 20, 24, 28, 32, 36, 40, 44, 48, 52, 56, 60, 64,\n",
              "       68, 72, 76, 80, 84, 88])"
            ]
          },
          "metadata": {},
          "execution_count": 9
        }
      ]
    },
    {
      "cell_type": "code",
      "source": [
        "arr57 = np.random.randint(1,30, size=(5,7))\n",
        "arr57.flatten()"
      ],
      "metadata": {
        "colab": {
          "base_uri": "https://localhost:8080/"
        },
        "id": "XeO86oFI-H98",
        "outputId": "f1783831-d8d0-4eb8-ceb9-fe855f10cdf2"
      },
      "execution_count": 13,
      "outputs": [
        {
          "output_type": "execute_result",
          "data": {
            "text/plain": [
              "array([18, 16, 18, 19, 29, 10,  4, 24, 13, 24,  6,  1, 23, 29, 27, 11, 17,\n",
              "       26, 12, 22, 14,  1, 13, 11,  8, 11, 21,  7, 28, 16, 29,  7, 12,  2,\n",
              "        1])"
            ]
          },
          "metadata": {},
          "execution_count": 13
        }
      ]
    },
    {
      "cell_type": "code",
      "source": [
        "bingo = np.random.randint(1,30, size=(10,4,3))\n",
        "bingo"
      ],
      "metadata": {
        "colab": {
          "base_uri": "https://localhost:8080/"
        },
        "id": "oHbqpqHw-5rk",
        "outputId": "e96b4222-c104-426e-a87e-4643c131019f"
      },
      "execution_count": 15,
      "outputs": [
        {
          "output_type": "execute_result",
          "data": {
            "text/plain": [
              "array([[[26, 21, 19],\n",
              "        [ 2, 13, 17],\n",
              "        [ 3, 19, 13],\n",
              "        [17, 14, 12]],\n",
              "\n",
              "       [[10,  2, 26],\n",
              "        [ 6, 13, 29],\n",
              "        [21,  4,  7],\n",
              "        [24, 20,  7]],\n",
              "\n",
              "       [[13, 20, 28],\n",
              "        [13, 17, 29],\n",
              "        [21, 15,  3],\n",
              "        [27, 19, 15]],\n",
              "\n",
              "       [[ 6, 21, 27],\n",
              "        [25, 17,  3],\n",
              "        [26, 28, 17],\n",
              "        [18, 13, 27]],\n",
              "\n",
              "       [[ 1,  9, 18],\n",
              "        [ 2,  1, 21],\n",
              "        [20, 14, 10],\n",
              "        [ 7, 20,  8]],\n",
              "\n",
              "       [[23, 15, 17],\n",
              "        [ 1,  5, 20],\n",
              "        [ 2, 26,  2],\n",
              "        [25,  6,  5]],\n",
              "\n",
              "       [[ 4, 22, 29],\n",
              "        [17, 13, 26],\n",
              "        [24,  2,  5],\n",
              "        [19, 22, 19]],\n",
              "\n",
              "       [[17, 13,  8],\n",
              "        [13, 29, 29],\n",
              "        [ 1, 24, 28],\n",
              "        [ 1, 15,  7]],\n",
              "\n",
              "       [[27, 17, 23],\n",
              "        [28, 23,  9],\n",
              "        [ 5, 16,  6],\n",
              "        [ 8, 24,  7]],\n",
              "\n",
              "       [[23,  3, 26],\n",
              "        [ 9, 28, 19],\n",
              "        [19, 17, 22],\n",
              "        [20,  1,  5]]])"
            ]
          },
          "metadata": {},
          "execution_count": 15
        }
      ]
    },
    {
      "cell_type": "code",
      "source": [
        "bingo.reshape(5,4,6)"
      ],
      "metadata": {
        "colab": {
          "base_uri": "https://localhost:8080/"
        },
        "id": "onX90HYZ_kGF",
        "outputId": "76799a3e-627a-49e4-ba87-fb8dea3c7236"
      },
      "execution_count": 16,
      "outputs": [
        {
          "output_type": "execute_result",
          "data": {
            "text/plain": [
              "array([[[26, 21, 19,  2, 13, 17],\n",
              "        [ 3, 19, 13, 17, 14, 12],\n",
              "        [10,  2, 26,  6, 13, 29],\n",
              "        [21,  4,  7, 24, 20,  7]],\n",
              "\n",
              "       [[13, 20, 28, 13, 17, 29],\n",
              "        [21, 15,  3, 27, 19, 15],\n",
              "        [ 6, 21, 27, 25, 17,  3],\n",
              "        [26, 28, 17, 18, 13, 27]],\n",
              "\n",
              "       [[ 1,  9, 18,  2,  1, 21],\n",
              "        [20, 14, 10,  7, 20,  8],\n",
              "        [23, 15, 17,  1,  5, 20],\n",
              "        [ 2, 26,  2, 25,  6,  5]],\n",
              "\n",
              "       [[ 4, 22, 29, 17, 13, 26],\n",
              "        [24,  2,  5, 19, 22, 19],\n",
              "        [17, 13,  8, 13, 29, 29],\n",
              "        [ 1, 24, 28,  1, 15,  7]],\n",
              "\n",
              "       [[27, 17, 23, 28, 23,  9],\n",
              "        [ 5, 16,  6,  8, 24,  7],\n",
              "        [23,  3, 26,  9, 28, 19],\n",
              "        [19, 17, 22, 20,  1,  5]]])"
            ]
          },
          "metadata": {},
          "execution_count": 16
        }
      ]
    },
    {
      "cell_type": "code",
      "source": [],
      "metadata": {
        "id": "0qxNJjed_58L"
      },
      "execution_count": null,
      "outputs": []
    }
  ]
}